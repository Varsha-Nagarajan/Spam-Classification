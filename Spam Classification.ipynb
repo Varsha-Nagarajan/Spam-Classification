{
 "cells": [
  {
   "cell_type": "code",
   "execution_count": 22,
   "metadata": {},
   "outputs": [],
   "source": [
    "%matplotlib inline\n",
    "import matplotlib.pyplot as plt\n",
    "import csv\n",
    "from textblob import TextBlob\n",
    "import pandas\n",
    "import sklearn\n",
    "#import cPickle\n",
    "import numpy as np\n",
    "from sklearn.feature_extraction.text import CountVectorizer, TfidfTransformer, TfidfVectorizer\n",
    "from sklearn.naive_bayes import MultinomialNB\n",
    "from sklearn.svm import SVC, LinearSVC\n",
    "from sklearn.metrics import classification_report, f1_score, accuracy_score, confusion_matrix\n",
    "from sklearn.pipeline import Pipeline\n",
    "from sklearn.model_selection import GridSearchCV\n",
    "from sklearn.model_selection import StratifiedKFold, cross_val_score, train_test_split \n",
    "from sklearn.tree import DecisionTreeClassifier \n",
    "from sklearn.learning_curve import learning_curve"
   ]
  },
  {
   "cell_type": "code",
   "execution_count": 23,
   "metadata": {
    "collapsed": true
   },
   "outputs": [],
   "source": [
    "messages = pandas.read_csv('spam_data/SMSSpamCollection', sep='\\t', quoting=csv.QUOTE_NONE, names=[\"label\", \"message\"])"
   ]
  },
  {
   "cell_type": "code",
   "execution_count": 24,
   "metadata": {
    "collapsed": true
   },
   "outputs": [],
   "source": [
    "def split_into_tokens(message):\n",
    "    words = TextBlob(message).words\n",
    "    return [word.lemma for word in words]\n",
    "\n",
    "train_data, test_data, train_labels, test_labels = train_test_split(messages['message'], messages['label'], test_size=0.2, random_state=26)"
   ]
  },
  {
   "cell_type": "code",
   "execution_count": 25,
   "metadata": {
    "collapsed": true
   },
   "outputs": [],
   "source": [
    "vectorizer = TfidfVectorizer(analyzer=split_into_tokens, stop_words='english')\n",
    "messages_tfidf = vectorizer.fit_transform(train_data)\n",
    "messages_tfidf_test = vectorizer.transform(test_data)"
   ]
  },
  {
   "cell_type": "code",
   "execution_count": 27,
   "metadata": {},
   "outputs": [
    {
     "name": "stdout",
     "output_type": "stream",
     "text": [
      "sparse matrix shape: (4459, 9675)\n",
      "number of non-zeros: 65494\n",
      "sparsity: 0.15%\n",
      "sparse matrix shape: (4459, 9675)\n",
      "number of non-zeros: 65494\n",
      "sparsity: 0.15%\n"
     ]
    }
   ],
   "source": [
    "# use the one above. ignore this\n",
    "\n",
    "\n",
    "# compare TfidfVectorizer also instead of count vectorizer\n",
    "bow_transformer = CountVectorizer(analyzer=split_into_tokens).fit(train_data)\n",
    "\n",
    "messages_bow = bow_transformer.transform(train_data)\n",
    "print ('sparse matrix shape:', messages_bow.shape)\n",
    "print ('number of non-zeros:', messages_bow.nnz)\n",
    "print ('sparsity: %.2f%%' % (100.0 * messages_bow.nnz / (messages_bow.shape[0] * messages_bow.shape[1])))\n",
    "\n",
    "tfidf_transformer = TfidfTransformer().fit(messages_bow)\n",
    "messages_tfidf = tfidf_transformer.transform(messages_bow)\n",
    "\n",
    "#bow_transformer1 = CountVectorizer(analyzer=split_into_tokens).fit(test_data)\n",
    "\n",
    "messages_bow1 = bow_transformer.transform(test_data)\n",
    "print ('sparse matrix shape:', messages_bow.shape)\n",
    "print ('number of non-zeros:', messages_bow.nnz)\n",
    "print ('sparsity: %.2f%%' % (100.0 * messages_bow.nnz / (messages_bow.shape[0] * messages_bow.shape[1])))\n",
    "\n",
    "#tfidf_transformer1 = TfidfTransformer().fit(messages_bow1)\n",
    "messages_tfidf_test = tfidf_transformer.transform(messages_bow1)"
   ]
  },
  {
   "cell_type": "code",
   "execution_count": 18,
   "metadata": {
    "collapsed": true
   },
   "outputs": [],
   "source": [
    "modelSVM = LinearSVC()\n",
    "modelBaye = MultinomialNB()"
   ]
  },
  {
   "cell_type": "code",
   "execution_count": 19,
   "metadata": {},
   "outputs": [
    {
     "data": {
      "text/plain": [
       "MultinomialNB(alpha=1.0, class_prior=None, fit_prior=True)"
      ]
     },
     "execution_count": 19,
     "metadata": {},
     "output_type": "execute_result"
    }
   ],
   "source": [
    "modelSVM.fit(messages_tfidf,train_labels)\n",
    "modelBaye.fit(messages_tfidf,train_labels)"
   ]
  },
  {
   "cell_type": "code",
   "execution_count": 16,
   "metadata": {},
   "outputs": [
    {
     "name": "stdout",
     "output_type": "stream",
     "text": [
      "[[969   1]\n",
      " [ 17 128]]\n",
      "[[970   0]\n",
      " [ 36 109]]\n"
     ]
    }
   ],
   "source": [
    "# Test the unseen mails for Spam\n",
    "\n",
    "resultSVM = modelSVM.predict(messages_tfidf_test)\n",
    "resultBaye = modelBaye.predict(messages_tfidf_test)\n",
    "\n",
    "print(confusion_matrix(test_labels,resultSVM))\n",
    "print(confusion_matrix(test_labels,resultBaye))"
   ]
  },
  {
   "cell_type": "code",
   "execution_count": 32,
   "metadata": {},
   "outputs": [
    {
     "name": "stdout",
     "output_type": "stream",
     "text": [
      "             precision    recall  f1-score   support\n",
      "\n",
      "        ham       0.98      1.00      0.99       970\n",
      "       spam       0.98      0.90      0.94       145\n",
      "\n",
      "avg / total       0.98      0.98      0.98      1115\n",
      "\n"
     ]
    }
   ],
   "source": [
    "print(classification_report(test_labels, resultSVM))"
   ]
  },
  {
   "cell_type": "code",
   "execution_count": 33,
   "metadata": {},
   "outputs": [
    {
     "name": "stdout",
     "output_type": "stream",
     "text": [
      "             precision    recall  f1-score   support\n",
      "\n",
      "        ham       0.95      1.00      0.97       970\n",
      "       spam       1.00      0.62      0.77       145\n",
      "\n",
      "avg / total       0.95      0.95      0.95      1115\n",
      "\n"
     ]
    }
   ],
   "source": [
    "print(classification_report(test_labels, resultBaye))"
   ]
  },
  {
   "cell_type": "code",
   "execution_count": 34,
   "metadata": {},
   "outputs": [
    {
     "data": {
      "text/plain": [
       "0.98475336322869955"
      ]
     },
     "execution_count": 34,
     "metadata": {},
     "output_type": "execute_result"
    }
   ],
   "source": [
    "accuracy_score(test_labels, resultSVM)"
   ]
  },
  {
   "cell_type": "code",
   "execution_count": 35,
   "metadata": {},
   "outputs": [
    {
     "data": {
      "text/plain": [
       "0.95067264573991028"
      ]
     },
     "execution_count": 35,
     "metadata": {},
     "output_type": "execute_result"
    }
   ],
   "source": [
    "accuracy_score(test_labels, resultBaye)"
   ]
  },
  {
   "cell_type": "code",
   "execution_count": 20,
   "metadata": {},
   "outputs": [
    {
     "name": "stdout",
     "output_type": "stream",
     "text": [
      "[[968   2]\n",
      " [ 15 130]]\n",
      "[[970   0]\n",
      " [ 55  90]]\n"
     ]
    }
   ],
   "source": [
    "# Test the unseen mails for Spam\n",
    "\n",
    "resultSVM = modelSVM.predict(messages_tfidf_test)\n",
    "resultBaye = modelBaye.predict(messages_tfidf_test)\n",
    "\n",
    "print(confusion_matrix(test_labels,resultSVM))\n",
    "print(confusion_matrix(test_labels,resultBaye))"
   ]
  },
  {
   "cell_type": "code",
   "execution_count": 30,
   "metadata": {},
   "outputs": [
    {
     "name": "stdout",
     "output_type": "stream",
     "text": [
      "[[970   0]\n",
      " [145   0]]\n",
      "0.869955156951\n"
     ]
    }
   ],
   "source": [
    "# training a Naive Bayes classifier\n",
    "from sklearn.naive_bayes import GaussianNB\n",
    "from sklearn.decomposition import TruncatedSVD\n",
    "\n",
    "svd = TruncatedSVD(n_components=2, n_iter=7, random_state=26)\n",
    "svd.fit(messages_tfidf)\n",
    "final_train_data = svd.transform(messages_tfidf)\n",
    "final_test_data = svd.transform(messages_tfidf_test)\n",
    "\n",
    "\n",
    "gnb = GaussianNB().fit(final_train_data,train_labels)\n",
    "gnb_predictions = gnb.predict(final_test_data)\n",
    "print(confusion_matrix(test_labels,gnb_predictions))\n",
    "print(accuracy_score(test_labels, gnb_predictions))"
   ]
  },
  {
   "cell_type": "code",
   "execution_count": 31,
   "metadata": {},
   "outputs": [
    {
     "name": "stdout",
     "output_type": "stream",
     "text": [
      "[[954  16]\n",
      " [ 21 124]]\n",
      "0.966816143498\n"
     ]
    }
   ],
   "source": [
    "from sklearn.tree import DecisionTreeClassifier\n",
    "modelDecision = DecisionTreeClassifier()\n",
    "modelDecision.fit(messages_tfidf,train_labels)\n",
    "resultDecision = modelDecision.predict(messages_tfidf_test)\n",
    "print(confusion_matrix(test_labels,resultDecision))\n",
    "print(accuracy_score(test_labels, resultDecision))"
   ]
  },
  {
   "cell_type": "code",
   "execution_count": null,
   "metadata": {
    "collapsed": true
   },
   "outputs": [],
   "source": []
  }
 ],
 "metadata": {
  "kernelspec": {
   "display_name": "Python 3",
   "language": "python",
   "name": "python3"
  },
  "language_info": {
   "codemirror_mode": {
    "name": "ipython",
    "version": 3
   },
   "file_extension": ".py",
   "mimetype": "text/x-python",
   "name": "python",
   "nbconvert_exporter": "python",
   "pygments_lexer": "ipython3",
   "version": "3.6.1"
  }
 },
 "nbformat": 4,
 "nbformat_minor": 2
}
